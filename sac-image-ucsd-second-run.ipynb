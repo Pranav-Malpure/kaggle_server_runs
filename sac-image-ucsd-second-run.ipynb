{
 "cells": [
  {
   "cell_type": "code",
   "execution_count": 1,
   "id": "0836e10e",
   "metadata": {
    "_cell_guid": "b1076dfc-b9ad-4769-8c92-a6c4dae69d19",
    "_uuid": "8f2839f25d086af736a60e9eeb907d3b93b6e0e5",
    "execution": {
     "iopub.execute_input": "2025-01-26T03:09:37.307082Z",
     "iopub.status.busy": "2025-01-26T03:09:37.306760Z",
     "iopub.status.idle": "2025-01-26T03:09:37.999576Z",
     "shell.execute_reply": "2025-01-26T03:09:37.998675Z"
    },
    "papermill": {
     "duration": 0.699151,
     "end_time": "2025-01-26T03:09:38.001686",
     "exception": false,
     "start_time": "2025-01-26T03:09:37.302535",
     "status": "completed"
    },
    "tags": []
   },
   "outputs": [],
   "source": [
    "# This Python 3 environment comes with many helpful analytics libraries installed\n",
    "# It is defined by the kaggle/python Docker image: https://github.com/kaggle/docker-python\n",
    "# For example, here's several helpful packages to load\n",
    "\n",
    "import numpy as np # linear algebra\n",
    "import pandas as pd # data processing, CSV file I/O (e.g. pd.read_csv)\n",
    "\n",
    "# Input data files are available in the read-only \"../input/\" directory\n",
    "# For example, running this (by clicking run or pressing Shift+Enter) will list all files under the input directory\n",
    "\n",
    "import os\n",
    "for dirname, _, filenames in os.walk('/kaggle/input'):\n",
    "    for filename in filenames:\n",
    "        print(os.path.join(dirname, filename))\n",
    "\n",
    "# You can write up to 20GB to the current directory (/kaggle/working/) that gets preserved as output when you create a version using \"Save & Run All\" \n",
    "# You can also write temporary files to /kaggle/temp/, but they won't be saved outside of the current session"
   ]
  },
  {
   "cell_type": "code",
   "execution_count": 2,
   "id": "f34a4d15",
   "metadata": {
    "execution": {
     "iopub.execute_input": "2025-01-26T03:09:38.008288Z",
     "iopub.status.busy": "2025-01-26T03:09:38.007500Z",
     "iopub.status.idle": "2025-01-26T03:09:40.044528Z",
     "shell.execute_reply": "2025-01-26T03:09:40.043467Z"
    },
    "papermill": {
     "duration": 2.04249,
     "end_time": "2025-01-26T03:09:40.046870",
     "exception": false,
     "start_time": "2025-01-26T03:09:38.004380",
     "status": "completed"
    },
    "tags": []
   },
   "outputs": [
    {
     "name": "stdout",
     "output_type": "stream",
     "text": [
      "Cloning into 'Image-based-RL-Manipulation'...\r\n",
      "remote: Enumerating objects: 1447, done.\u001b[K\r\n",
      "remote: Counting objects: 100% (18/18), done.\u001b[K\r\n",
      "remote: Compressing objects: 100% (14/14), done.\u001b[K\r\n",
      "remote: Total 1447 (delta 9), reused 12 (delta 4), pack-reused 1429 (from 1)\u001b[K\r\n",
      "Receiving objects: 100% (1447/1447), 7.93 MiB | 30.29 MiB/s, done.\r\n",
      "Resolving deltas: 100% (344/344), done.\r\n"
     ]
    }
   ],
   "source": [
    "!cd /kaggle/working && rm -rf Image-based-RL-Manipulation && git clone https://github.com/Pranav-Malpure/Image-based-RL-Manipulation"
   ]
  },
  {
   "cell_type": "code",
   "execution_count": 3,
   "id": "b1002e97",
   "metadata": {
    "collapsed": true,
    "execution": {
     "iopub.execute_input": "2025-01-26T03:09:40.054544Z",
     "iopub.status.busy": "2025-01-26T03:09:40.054237Z",
     "iopub.status.idle": "2025-01-26T03:10:28.101572Z",
     "shell.execute_reply": "2025-01-26T03:10:28.100547Z"
    },
    "jupyter": {
     "outputs_hidden": true
    },
    "papermill": {
     "duration": 48.053716,
     "end_time": "2025-01-26T03:10:28.103771",
     "exception": false,
     "start_time": "2025-01-26T03:09:40.050055",
     "status": "completed"
    },
    "tags": []
   },
   "outputs": [
    {
     "name": "stdout",
     "output_type": "stream",
     "text": [
      "\r\n",
      "\r\n",
      "\r\n",
      "The following additional packages will be installed:\r\n",
      "  libvulkan1\r\n",
      "Recommended packages:\r\n",
      "  mesa-vulkan-drivers | vulkan-icd\r\n",
      "The following NEW packages will be installed:\r\n",
      "  libvulkan-dev libvulkan1\r\n",
      "0 upgraded, 2 newly installed, 0 to remove and 72 not upgraded.\r\n",
      "Need to get 1020 kB of archives.\r\n",
      "After this operation, 17.2 MB of additional disk space will be used.\r\n",
      "Get:1 http://archive.ubuntu.com/ubuntu jammy/main amd64 libvulkan1 amd64 1.3.204.1-2 [128 kB]\r\n",
      "Get:2 http://archive.ubuntu.com/ubuntu jammy/main amd64 libvulkan-dev amd64 1.3.204.1-2 [892 kB]\r\n",
      "Fetched 1020 kB in 1s (1584 kB/s)\r\n",
      "Selecting previously unselected package libvulkan1:amd64.\r\n",
      "(Reading database ... 122997 files and directories currently installed.)\r\n",
      "Preparing to unpack .../libvulkan1_1.3.204.1-2_amd64.deb ...\r\n",
      "Unpacking libvulkan1:amd64 (1.3.204.1-2) ...\r\n",
      "Selecting previously unselected package libvulkan-dev:amd64.\r\n",
      "Preparing to unpack .../libvulkan-dev_1.3.204.1-2_amd64.deb ...\r\n",
      "Unpacking libvulkan-dev:amd64 (1.3.204.1-2) ...\r\n",
      "Setting up libvulkan1:amd64 (1.3.204.1-2) ...\r\n",
      "Setting up libvulkan-dev:amd64 (1.3.204.1-2) ...\r\n",
      "Processing triggers for libc-bin (2.35-0ubuntu3.8) ...\r\n",
      "Collecting mani_skill\r\n",
      "  Downloading mani_skill-3.0.0b15-py3-none-any.whl.metadata (3.2 kB)\r\n",
      "Collecting tyro\r\n",
      "  Downloading tyro-0.9.13-py3-none-any.whl.metadata (9.4 kB)\r\n",
      "Requirement already satisfied: numpy<2.0.0,>=1.22 in /opt/conda/lib/python3.10/site-packages (from mani_skill) (1.26.4)\r\n",
      "Requirement already satisfied: scipy in /opt/conda/lib/python3.10/site-packages (from mani_skill) (1.14.1)\r\n",
      "Requirement already satisfied: dacite in /opt/conda/lib/python3.10/site-packages (from mani_skill) (1.8.1)\r\n",
      "Collecting gymnasium==0.29.1 (from mani_skill)\r\n",
      "  Downloading gymnasium-0.29.1-py3-none-any.whl.metadata (10 kB)\r\n",
      "Collecting sapien==3.0.0.b1 (from mani_skill)\r\n",
      "  Downloading sapien-3.0.0b1-cp310-cp310-manylinux2014_x86_64.whl.metadata (10 kB)\r\n",
      "Requirement already satisfied: h5py in /opt/conda/lib/python3.10/site-packages (from mani_skill) (3.11.0)\r\n",
      "Requirement already satisfied: pyyaml in /opt/conda/lib/python3.10/site-packages (from mani_skill) (6.0.2)\r\n",
      "Requirement already satisfied: tqdm in /opt/conda/lib/python3.10/site-packages (from mani_skill) (4.66.4)\r\n",
      "Requirement already satisfied: GitPython in /opt/conda/lib/python3.10/site-packages (from mani_skill) (3.1.43)\r\n",
      "Requirement already satisfied: tabulate in /opt/conda/lib/python3.10/site-packages (from mani_skill) (0.9.0)\r\n",
      "Collecting transforms3d (from mani_skill)\r\n",
      "  Downloading transforms3d-0.4.2-py3-none-any.whl.metadata (2.8 kB)\r\n",
      "Collecting trimesh (from mani_skill)\r\n",
      "  Downloading trimesh-4.6.0-py3-none-any.whl.metadata (18 kB)\r\n",
      "Requirement already satisfied: imageio in /opt/conda/lib/python3.10/site-packages (from mani_skill) (2.34.1)\r\n",
      "Collecting mplib==0.1.1 (from mani_skill)\r\n",
      "  Downloading mplib-0.1.1-cp310-cp310-manylinux_2_17_x86_64.manylinux2014_x86_64.whl.metadata (3.7 kB)\r\n",
      "Collecting fast_kinematics==0.2.2 (from mani_skill)\r\n",
      "  Downloading fast_kinematics-0.2.2-cp310-cp310-manylinux_2_17_x86_64.manylinux2014_x86_64.whl.metadata (3.3 kB)\r\n",
      "Requirement already satisfied: IPython in /opt/conda/lib/python3.10/site-packages (from mani_skill) (8.21.0)\r\n",
      "Collecting pytorch_kinematics==0.7.4 (from mani_skill)\r\n",
      "  Downloading pytorch_kinematics-0.7.4-py3-none-any.whl.metadata (14 kB)\r\n",
      "Requirement already satisfied: pynvml in /opt/conda/lib/python3.10/site-packages (from mani_skill) (11.4.1)\r\n",
      "Requirement already satisfied: huggingface_hub in /opt/conda/lib/python3.10/site-packages (from mani_skill) (0.26.2)\r\n",
      "Requirement already satisfied: cloudpickle>=1.2.0 in /opt/conda/lib/python3.10/site-packages (from gymnasium==0.29.1->mani_skill) (3.1.0)\r\n",
      "Requirement already satisfied: typing-extensions>=4.3.0 in /opt/conda/lib/python3.10/site-packages (from gymnasium==0.29.1->mani_skill) (4.12.2)\r\n",
      "Requirement already satisfied: farama-notifications>=0.0.1 in /opt/conda/lib/python3.10/site-packages (from gymnasium==0.29.1->mani_skill) (0.0.4)\r\n",
      "Collecting toppra>=0.4.0 (from mplib==0.1.1->mani_skill)\r\n",
      "  Downloading toppra-0.6.0-cp310-cp310-manylinux_2_5_x86_64.manylinux1_x86_64.manylinux_2_12_x86_64.manylinux2010_x86_64.whl.metadata (3.4 kB)\r\n",
      "Requirement already satisfied: absl-py in /opt/conda/lib/python3.10/site-packages (from pytorch_kinematics==0.7.4->mani_skill) (1.4.0)\r\n",
      "Requirement already satisfied: lxml in /opt/conda/lib/python3.10/site-packages (from pytorch_kinematics==0.7.4->mani_skill) (5.3.0)\r\n",
      "Requirement already satisfied: torch in /opt/conda/lib/python3.10/site-packages (from pytorch_kinematics==0.7.4->mani_skill) (2.4.0)\r\n",
      "Requirement already satisfied: matplotlib in /opt/conda/lib/python3.10/site-packages (from pytorch_kinematics==0.7.4->mani_skill) (3.7.5)\r\n",
      "Collecting pytorch-seed (from pytorch_kinematics==0.7.4->mani_skill)\r\n",
      "  Downloading pytorch_seed-0.2.0-py3-none-any.whl.metadata (3.8 kB)\r\n",
      "Collecting arm-pytorch-utilities (from pytorch_kinematics==0.7.4->mani_skill)\r\n",
      "  Downloading arm_pytorch_utilities-0.4.3-py3-none-any.whl.metadata (2.6 kB)\r\n",
      "Requirement already satisfied: requests>=2.22 in /opt/conda/lib/python3.10/site-packages (from sapien==3.0.0.b1->mani_skill) (2.32.3)\r\n",
      "Requirement already satisfied: networkx in /opt/conda/lib/python3.10/site-packages (from sapien==3.0.0.b1->mani_skill) (3.3)\r\n",
      "Collecting pyperclip (from sapien==3.0.0.b1->mani_skill)\r\n",
      "  Downloading pyperclip-1.9.0.tar.gz (20 kB)\r\n",
      "  Preparing metadata (setup.py) ... \u001b[?25l-\b \bdone\r\n",
      "\u001b[?25hRequirement already satisfied: opencv-python>=4.0 in /opt/conda/lib/python3.10/site-packages (from sapien==3.0.0.b1->mani_skill) (4.10.0.84)\r\n",
      "Requirement already satisfied: docstring-parser>=0.15 in /opt/conda/lib/python3.10/site-packages (from tyro) (0.16)\r\n",
      "Requirement already satisfied: rich>=11.1.0 in /opt/conda/lib/python3.10/site-packages (from tyro) (13.7.1)\r\n",
      "Collecting shtab>=1.5.6 (from tyro)\r\n",
      "  Downloading shtab-1.7.1-py3-none-any.whl.metadata (7.3 kB)\r\n",
      "Requirement already satisfied: typeguard>=4.0.0 in /opt/conda/lib/python3.10/site-packages (from tyro) (4.3.0)\r\n",
      "Requirement already satisfied: markdown-it-py>=2.2.0 in /opt/conda/lib/python3.10/site-packages (from rich>=11.1.0->tyro) (3.0.0)\r\n",
      "Requirement already satisfied: pygments<3.0.0,>=2.13.0 in /opt/conda/lib/python3.10/site-packages (from rich>=11.1.0->tyro) (2.18.0)\r\n",
      "Requirement already satisfied: gitdb<5,>=4.0.1 in /opt/conda/lib/python3.10/site-packages (from GitPython->mani_skill) (4.0.11)\r\n",
      "Requirement already satisfied: filelock in /opt/conda/lib/python3.10/site-packages (from huggingface_hub->mani_skill) (3.15.1)\r\n",
      "Requirement already satisfied: fsspec>=2023.5.0 in /opt/conda/lib/python3.10/site-packages (from huggingface_hub->mani_skill) (2024.6.0)\r\n",
      "Requirement already satisfied: packaging>=20.9 in /opt/conda/lib/python3.10/site-packages (from huggingface_hub->mani_skill) (21.3)\r\n",
      "Requirement already satisfied: pillow>=8.3.2 in /opt/conda/lib/python3.10/site-packages (from imageio->mani_skill) (10.3.0)\r\n",
      "Collecting imageio-ffmpeg (from imageio[ffmpeg]->mani_skill)\r\n",
      "  Downloading imageio_ffmpeg-0.6.0-py3-none-manylinux2014_x86_64.whl.metadata (1.5 kB)\r\n",
      "Requirement already satisfied: psutil in /opt/conda/lib/python3.10/site-packages (from imageio[ffmpeg]->mani_skill) (5.9.3)\r\n",
      "Requirement already satisfied: decorator in /opt/conda/lib/python3.10/site-packages (from IPython->mani_skill) (5.1.1)\r\n",
      "Requirement already satisfied: jedi>=0.16 in /opt/conda/lib/python3.10/site-packages (from IPython->mani_skill) (0.19.1)\r\n",
      "Requirement already satisfied: matplotlib-inline in /opt/conda/lib/python3.10/site-packages (from IPython->mani_skill) (0.1.7)\r\n",
      "Requirement already satisfied: prompt-toolkit<3.1.0,>=3.0.41 in /opt/conda/lib/python3.10/site-packages (from IPython->mani_skill) (3.0.47)\r\n",
      "Requirement already satisfied: stack-data in /opt/conda/lib/python3.10/site-packages (from IPython->mani_skill) (0.6.2)\r\n",
      "Requirement already satisfied: traitlets>=5 in /opt/conda/lib/python3.10/site-packages (from IPython->mani_skill) (5.14.3)\r\n",
      "Requirement already satisfied: exceptiongroup in /opt/conda/lib/python3.10/site-packages (from IPython->mani_skill) (1.2.0)\r\n",
      "Requirement already satisfied: pexpect>4.3 in /opt/conda/lib/python3.10/site-packages (from IPython->mani_skill) (4.9.0)\r\n",
      "Requirement already satisfied: smmap<6,>=3.0.1 in /opt/conda/lib/python3.10/site-packages (from gitdb<5,>=4.0.1->GitPython->mani_skill) (5.0.1)\r\n",
      "Requirement already satisfied: parso<0.9.0,>=0.8.3 in /opt/conda/lib/python3.10/site-packages (from jedi>=0.16->IPython->mani_skill) (0.8.4)\r\n",
      "Requirement already satisfied: mdurl~=0.1 in /opt/conda/lib/python3.10/site-packages (from markdown-it-py>=2.2.0->rich>=11.1.0->tyro) (0.1.2)\r\n",
      "Requirement already satisfied: pyparsing!=3.0.5,>=2.0.2 in /opt/conda/lib/python3.10/site-packages (from packaging>=20.9->huggingface_hub->mani_skill) (3.1.2)\r\n",
      "Requirement already satisfied: ptyprocess>=0.5 in /opt/conda/lib/python3.10/site-packages (from pexpect>4.3->IPython->mani_skill) (0.7.0)\r\n",
      "Requirement already satisfied: wcwidth in /opt/conda/lib/python3.10/site-packages (from prompt-toolkit<3.1.0,>=3.0.41->IPython->mani_skill) (0.2.13)\r\n",
      "Requirement already satisfied: charset-normalizer<4,>=2 in /opt/conda/lib/python3.10/site-packages (from requests>=2.22->sapien==3.0.0.b1->mani_skill) (3.3.2)\r\n",
      "Requirement already satisfied: idna<4,>=2.5 in /opt/conda/lib/python3.10/site-packages (from requests>=2.22->sapien==3.0.0.b1->mani_skill) (3.7)\r\n",
      "Requirement already satisfied: urllib3<3,>=1.21.1 in /opt/conda/lib/python3.10/site-packages (from requests>=2.22->sapien==3.0.0.b1->mani_skill) (1.26.18)\r\n",
      "Requirement already satisfied: certifi>=2017.4.17 in /opt/conda/lib/python3.10/site-packages (from requests>=2.22->sapien==3.0.0.b1->mani_skill) (2024.6.2)\r\n",
      "Requirement already satisfied: contourpy>=1.0.1 in /opt/conda/lib/python3.10/site-packages (from matplotlib->pytorch_kinematics==0.7.4->mani_skill) (1.2.1)\r\n",
      "Requirement already satisfied: cycler>=0.10 in /opt/conda/lib/python3.10/site-packages (from matplotlib->pytorch_kinematics==0.7.4->mani_skill) (0.12.1)\r\n",
      "Requirement already satisfied: fonttools>=4.22.0 in /opt/conda/lib/python3.10/site-packages (from matplotlib->pytorch_kinematics==0.7.4->mani_skill) (4.53.0)\r\n",
      "Requirement already satisfied: kiwisolver>=1.0.1 in /opt/conda/lib/python3.10/site-packages (from matplotlib->pytorch_kinematics==0.7.4->mani_skill) (1.4.5)\r\n",
      "Requirement already satisfied: python-dateutil>=2.7 in /opt/conda/lib/python3.10/site-packages (from matplotlib->pytorch_kinematics==0.7.4->mani_skill) (2.9.0.post0)\r\n",
      "Requirement already satisfied: executing>=1.2.0 in /opt/conda/lib/python3.10/site-packages (from stack-data->IPython->mani_skill) (2.0.1)\r\n",
      "Requirement already satisfied: asttokens>=2.1.0 in /opt/conda/lib/python3.10/site-packages (from stack-data->IPython->mani_skill) (2.4.1)\r\n",
      "Requirement already satisfied: pure-eval in /opt/conda/lib/python3.10/site-packages (from stack-data->IPython->mani_skill) (0.2.2)\r\n",
      "Requirement already satisfied: sympy in /opt/conda/lib/python3.10/site-packages (from torch->pytorch_kinematics==0.7.4->mani_skill) (1.13.3)\r\n",
      "Requirement already satisfied: jinja2 in /opt/conda/lib/python3.10/site-packages (from torch->pytorch_kinematics==0.7.4->mani_skill) (3.1.4)\r\n",
      "Requirement already satisfied: six>=1.12.0 in /opt/conda/lib/python3.10/site-packages (from asttokens>=2.1.0->stack-data->IPython->mani_skill) (1.16.0)\r\n",
      "Requirement already satisfied: MarkupSafe>=2.0 in /opt/conda/lib/python3.10/site-packages (from jinja2->torch->pytorch_kinematics==0.7.4->mani_skill) (2.1.5)\r\n",
      "Requirement already satisfied: mpmath<1.4,>=1.1.0 in /opt/conda/lib/python3.10/site-packages (from sympy->torch->pytorch_kinematics==0.7.4->mani_skill) (1.3.0)\r\n",
      "Downloading mani_skill-3.0.0b15-py3-none-any.whl (86.7 MB)\r\n",
      "\u001b[2K   \u001b[90m━━━━━━━━━━━━━━━━━━━━━━━━━━━━━━━━━━━━━━━━\u001b[0m \u001b[32m86.7/86.7 MB\u001b[0m \u001b[31m18.8 MB/s\u001b[0m eta \u001b[36m0:00:00\u001b[0m\r\n",
      "\u001b[?25hDownloading fast_kinematics-0.2.2-cp310-cp310-manylinux_2_17_x86_64.manylinux2014_x86_64.whl (623 kB)\r\n",
      "\u001b[2K   \u001b[90m━━━━━━━━━━━━━━━━━━━━━━━━━━━━━━━━━━━━━━━━\u001b[0m \u001b[32m623.8/623.8 kB\u001b[0m \u001b[31m31.0 MB/s\u001b[0m eta \u001b[36m0:00:00\u001b[0m\r\n",
      "\u001b[?25hDownloading gymnasium-0.29.1-py3-none-any.whl (953 kB)\r\n",
      "\u001b[2K   \u001b[90m━━━━━━━━━━━━━━━━━━━━━━━━━━━━━━━━━━━━━━━━\u001b[0m \u001b[32m953.9/953.9 kB\u001b[0m \u001b[31m49.5 MB/s\u001b[0m eta \u001b[36m0:00:00\u001b[0m\r\n",
      "\u001b[?25hDownloading mplib-0.1.1-cp310-cp310-manylinux_2_17_x86_64.manylinux2014_x86_64.whl (12.0 MB)\r\n",
      "\u001b[2K   \u001b[90m━━━━━━━━━━━━━━━━━━━━━━━━━━━━━━━━━━━━━━━━\u001b[0m \u001b[32m12.0/12.0 MB\u001b[0m \u001b[31m78.5 MB/s\u001b[0m eta \u001b[36m0:00:00\u001b[0m\r\n",
      "\u001b[?25hDownloading pytorch_kinematics-0.7.4-py3-none-any.whl (59 kB)\r\n",
      "\u001b[2K   \u001b[90m━━━━━━━━━━━━━━━━━━━━━━━━━━━━━━━━━━━━━━━━\u001b[0m \u001b[32m59.6/59.6 kB\u001b[0m \u001b[31m3.7 MB/s\u001b[0m eta \u001b[36m0:00:00\u001b[0m\r\n",
      "\u001b[?25hDownloading sapien-3.0.0b1-cp310-cp310-manylinux2014_x86_64.whl (49.6 MB)\r\n",
      "\u001b[2K   \u001b[90m━━━━━━━━━━━━━━━━━━━━━━━━━━━━━━━━━━━━━━━━\u001b[0m \u001b[32m49.6/49.6 MB\u001b[0m \u001b[31m33.6 MB/s\u001b[0m eta \u001b[36m0:00:00\u001b[0m\r\n",
      "\u001b[?25hDownloading tyro-0.9.13-py3-none-any.whl (115 kB)\r\n",
      "\u001b[2K   \u001b[90m━━━━━━━━━━━━━━━━━━━━━━━━━━━━━━━━━━━━━━━━\u001b[0m \u001b[32m115.7/115.7 kB\u001b[0m \u001b[31m7.0 MB/s\u001b[0m eta \u001b[36m0:00:00\u001b[0m\r\n",
      "\u001b[?25hDownloading shtab-1.7.1-py3-none-any.whl (14 kB)\r\n",
      "Downloading transforms3d-0.4.2-py3-none-any.whl (1.4 MB)\r\n",
      "\u001b[2K   \u001b[90m━━━━━━━━━━━━━━━━━━━━━━━━━━━━━━━━━━━━━━━━\u001b[0m \u001b[32m1.4/1.4 MB\u001b[0m \u001b[31m52.9 MB/s\u001b[0m eta \u001b[36m0:00:00\u001b[0m\r\n",
      "\u001b[?25hDownloading trimesh-4.6.0-py3-none-any.whl (706 kB)\r\n",
      "\u001b[2K   \u001b[90m━━━━━━━━━━━━━━━━━━━━━━━━━━━━━━━━━━━━━━━━\u001b[0m \u001b[32m707.0/707.0 kB\u001b[0m \u001b[31m31.8 MB/s\u001b[0m eta \u001b[36m0:00:00\u001b[0m\r\n",
      "\u001b[?25hDownloading toppra-0.6.0-cp310-cp310-manylinux_2_5_x86_64.manylinux1_x86_64.manylinux_2_12_x86_64.manylinux2010_x86_64.whl (638 kB)\r\n",
      "\u001b[2K   \u001b[90m━━━━━━━━━━━━━━━━━━━━━━━━━━━━━━━━━━━━━━━━\u001b[0m \u001b[32m638.2/638.2 kB\u001b[0m \u001b[31m34.4 MB/s\u001b[0m eta \u001b[36m0:00:00\u001b[0m\r\n",
      "\u001b[?25hDownloading arm_pytorch_utilities-0.4.3-py3-none-any.whl (40 kB)\r\n",
      "\u001b[2K   \u001b[90m━━━━━━━━━━━━━━━━━━━━━━━━━━━━━━━━━━━━━━━━\u001b[0m \u001b[32m41.0/41.0 kB\u001b[0m \u001b[31m2.4 MB/s\u001b[0m eta \u001b[36m0:00:00\u001b[0m\r\n",
      "\u001b[?25hDownloading imageio_ffmpeg-0.6.0-py3-none-manylinux2014_x86_64.whl (29.5 MB)\r\n",
      "\u001b[2K   \u001b[90m━━━━━━━━━━━━━━━━━━━━━━━━━━━━━━━━━━━━━━━━\u001b[0m \u001b[32m29.5/29.5 MB\u001b[0m \u001b[31m62.0 MB/s\u001b[0m eta \u001b[36m0:00:00\u001b[0m\r\n",
      "\u001b[?25hDownloading pytorch_seed-0.2.0-py3-none-any.whl (4.2 kB)\r\n",
      "Building wheels for collected packages: pyperclip\r\n",
      "  Building wheel for pyperclip (setup.py) ... \u001b[?25l-\b \b\\\b \bdone\r\n",
      "\u001b[?25h  Created wheel for pyperclip: filename=pyperclip-1.9.0-py3-none-any.whl size=11002 sha256=30662d43db6b1fae374bcd43cf30ceb481079531a962c54445774fca1a6e5903\r\n",
      "  Stored in directory: /root/.cache/pip/wheels/cc/ae/36/ee17d1de094fcb61e24106cb329b5103861e819f94bef5e10a\r\n",
      "Successfully built pyperclip\r\n",
      "Installing collected packages: pyperclip, trimesh, transforms3d, shtab, imageio-ffmpeg, gymnasium, fast_kinematics, sapien, tyro, toppra, pytorch-seed, mplib, arm-pytorch-utilities, pytorch_kinematics, mani_skill\r\n",
      "  Attempting uninstall: gymnasium\r\n",
      "    Found existing installation: gymnasium 0.29.0\r\n",
      "    Uninstalling gymnasium-0.29.0:\r\n",
      "      Successfully uninstalled gymnasium-0.29.0\r\n",
      "\u001b[31mERROR: pip's dependency resolver does not currently take into account all the packages that are installed. This behaviour is the source of the following dependency conflicts.\r\n",
      "kaggle-environments 1.16.9 requires gymnasium==0.29.0, but you have gymnasium 0.29.1 which is incompatible.\u001b[0m\u001b[31m\r\n",
      "\u001b[0mSuccessfully installed arm-pytorch-utilities-0.4.3 fast_kinematics-0.2.2 gymnasium-0.29.1 imageio-ffmpeg-0.6.0 mani_skill-3.0.0b15 mplib-0.1.1 pyperclip-1.9.0 pytorch-seed-0.2.0 pytorch_kinematics-0.7.4 sapien-3.0.0b1 shtab-1.7.1 toppra-0.6.0 transforms3d-0.4.2 trimesh-4.6.0 tyro-0.9.13\r\n",
      "Collecting hydra-core\r\n",
      "  Downloading hydra_core-1.3.2-py3-none-any.whl.metadata (5.5 kB)\r\n",
      "Collecting omegaconf<2.4,>=2.2 (from hydra-core)\r\n",
      "  Downloading omegaconf-2.3.0-py3-none-any.whl.metadata (3.9 kB)\r\n",
      "Collecting antlr4-python3-runtime==4.9.* (from hydra-core)\r\n",
      "  Downloading antlr4-python3-runtime-4.9.3.tar.gz (117 kB)\r\n",
      "\u001b[2K     \u001b[90m━━━━━━━━━━━━━━━━━━━━━━━━━━━━━━━━━━━━━━━\u001b[0m \u001b[32m117.0/117.0 kB\u001b[0m \u001b[31m4.0 MB/s\u001b[0m eta \u001b[36m0:00:00\u001b[0m\r\n",
      "\u001b[?25h  Preparing metadata (setup.py) ... \u001b[?25l-\b \bdone\r\n",
      "\u001b[?25hRequirement already satisfied: packaging in /opt/conda/lib/python3.10/site-packages (from hydra-core) (21.3)\r\n",
      "Requirement already satisfied: PyYAML>=5.1.0 in /opt/conda/lib/python3.10/site-packages (from omegaconf<2.4,>=2.2->hydra-core) (6.0.2)\r\n",
      "Requirement already satisfied: pyparsing!=3.0.5,>=2.0.2 in /opt/conda/lib/python3.10/site-packages (from packaging->hydra-core) (3.1.2)\r\n",
      "Downloading hydra_core-1.3.2-py3-none-any.whl (154 kB)\r\n",
      "\u001b[2K   \u001b[90m━━━━━━━━━━━━━━━━━━━━━━━━━━━━━━━━━━━━━━━━\u001b[0m \u001b[32m154.5/154.5 kB\u001b[0m \u001b[31m11.1 MB/s\u001b[0m eta \u001b[36m0:00:00\u001b[0m\r\n",
      "\u001b[?25hDownloading omegaconf-2.3.0-py3-none-any.whl (79 kB)\r\n",
      "\u001b[2K   \u001b[90m━━━━━━━━━━━━━━━━━━━━━━━━━━━━━━━━━━━━━━━━\u001b[0m \u001b[32m79.5/79.5 kB\u001b[0m \u001b[31m5.8 MB/s\u001b[0m eta \u001b[36m0:00:00\u001b[0m\r\n",
      "\u001b[?25hBuilding wheels for collected packages: antlr4-python3-runtime\r\n",
      "  Building wheel for antlr4-python3-runtime (setup.py) ... \u001b[?25l-\b \b\\\b \bdone\r\n",
      "\u001b[?25h  Created wheel for antlr4-python3-runtime: filename=antlr4_python3_runtime-4.9.3-py3-none-any.whl size=144554 sha256=45d409491b2e18f8bf6f246c5d0eb0d99170db14748535de8f6b5ae00f5c494f\r\n",
      "  Stored in directory: /root/.cache/pip/wheels/12/93/dd/1f6a127edc45659556564c5730f6d4e300888f4bca2d4c5a88\r\n",
      "Successfully built antlr4-python3-runtime\r\n",
      "Installing collected packages: antlr4-python3-runtime, omegaconf, hydra-core\r\n",
      "Successfully installed antlr4-python3-runtime-4.9.3 hydra-core-1.3.2 omegaconf-2.3.0\r\n"
     ]
    }
   ],
   "source": [
    "# setup vulkan\n",
    "!mkdir -p /kaggle/working/usr/share/vulkan/icd.d\n",
    "!mkdir -p /kaggle/working/usr/share/glvnd/egl_vendor.d\n",
    "\n",
    "!wget -q https://raw.githubusercontent.com/haosulab/ManiSkill/main/docker/nvidia_icd.json\n",
    "!wget -q https://raw.githubusercontent.com/haosulab/ManiSkill/main/docker/10_nvidia.json\n",
    "!mv nvidia_icd.json /kaggle/working/usr/share/vulkan/icd.d\n",
    "!mv 10_nvidia.json /kaggle/working/usr/share/glvnd/egl_vendor.d/10_nvidia.json\n",
    "# !mv 10_nvidia.json /usr/share/glvnd/egl_vendor.d/10_nvidia.json\n",
    "!apt-get install -y --no-install-recommends libvulkan-dev\n",
    "# dependencies\n",
    "!pip install --upgrade mani_skill tyro\n",
    "!pip install hydra-core\n",
    "\n",
    "!mkdir -p /usr/share/glvnd/\n",
    "!ln -s /kaggle/working/usr/share/glvnd/egl_vendor.d /usr/share/glvnd/egl_vendor.d\n",
    "!ln -s /kaggle/working/usr/share/vulkan/icd.d /usr/share/vulkan/icd.d"
   ]
  },
  {
   "cell_type": "code",
   "execution_count": 4,
   "id": "a7fc5739",
   "metadata": {
    "execution": {
     "iopub.execute_input": "2025-01-26T03:10:28.124812Z",
     "iopub.status.busy": "2025-01-26T03:10:28.124067Z",
     "iopub.status.idle": "2025-01-26T03:10:43.782471Z",
     "shell.execute_reply": "2025-01-26T03:10:43.781181Z"
    },
    "papermill": {
     "duration": 15.673101,
     "end_time": "2025-01-26T03:10:43.786470",
     "exception": false,
     "start_time": "2025-01-26T03:10:28.113369",
     "status": "completed"
    },
    "tags": []
   },
   "outputs": [],
   "source": [
    "!find /usr -name 'libnv_vulkan*'"
   ]
  },
  {
   "cell_type": "code",
   "execution_count": 5,
   "id": "5a3df73d",
   "metadata": {
    "execution": {
     "iopub.execute_input": "2025-01-26T03:10:43.820633Z",
     "iopub.status.busy": "2025-01-26T03:10:43.819512Z",
     "iopub.status.idle": "2025-01-26T03:10:56.015058Z",
     "shell.execute_reply": "2025-01-26T03:10:56.013937Z"
    },
    "papermill": {
     "duration": 12.213327,
     "end_time": "2025-01-26T03:10:56.017216",
     "exception": false,
     "start_time": "2025-01-26T03:10:43.803889",
     "status": "completed"
    },
    "tags": []
   },
   "outputs": [
    {
     "name": "stdout",
     "output_type": "stream",
     "text": [
      "Hit:1 http://archive.ubuntu.com/ubuntu jammy InRelease\r\n",
      "Get:2 http://archive.ubuntu.com/ubuntu jammy-updates InRelease [128 kB]\r\n",
      "Get:3 http://archive.ubuntu.com/ubuntu jammy-backports InRelease [127 kB]\r\n",
      "Get:4 http://security.ubuntu.com/ubuntu jammy-security InRelease [129 kB]\r\n",
      "Get:5 https://developer.download.nvidia.com/compute/cuda/repos/ubuntu2204/x86_64  InRelease [1581 B]\r\n",
      "Get:6 https://packages.cloud.google.com/apt gcsfuse-focal InRelease [1227 B]\r\n",
      "Get:7 https://packages.cloud.google.com/apt cloud-sdk InRelease [1618 B]\r\n",
      "Hit:8 https://packages.cloud.google.com/apt google-fast-socket InRelease\r\n",
      "Get:9 http://archive.ubuntu.com/ubuntu jammy-updates/main amd64 Packages [2861 kB]\r\n",
      "Get:10 http://security.ubuntu.com/ubuntu jammy-security/main amd64 Packages [2561 kB]\r\n",
      "Get:11 http://archive.ubuntu.com/ubuntu jammy-updates/multiverse amd64 Packages [53.3 kB]\r\n",
      "Get:12 http://archive.ubuntu.com/ubuntu jammy-updates/universe amd64 Packages [1520 kB]\r\n",
      "Get:13 http://archive.ubuntu.com/ubuntu jammy-updates/restricted amd64 Packages [3663 kB]\r\n",
      "Get:14 https://developer.download.nvidia.com/compute/cuda/repos/ubuntu2204/x86_64  Packages [1285 kB]\r\n",
      "Get:15 http://archive.ubuntu.com/ubuntu jammy-backports/main amd64 Packages [81.4 kB]\r\n",
      "Get:16 http://archive.ubuntu.com/ubuntu jammy-backports/universe amd64 Packages [35.2 kB]\r\n",
      "Get:17 https://packages.cloud.google.com/apt gcsfuse-focal/main amd64 Packages [31.6 kB]\r\n",
      "Get:18 https://packages.cloud.google.com/apt cloud-sdk/main all Packages [1618 kB]\r\n",
      "Get:19 http://security.ubuntu.com/ubuntu jammy-security/universe amd64 Packages [1228 kB]\r\n",
      "Get:20 http://security.ubuntu.com/ubuntu jammy-security/multiverse amd64 Packages [45.2 kB]\r\n",
      "Get:21 http://security.ubuntu.com/ubuntu jammy-security/restricted amd64 Packages [3527 kB]\r\n",
      "Get:22 https://packages.cloud.google.com/apt cloud-sdk/main amd64 Packages [3535 kB]\r\n",
      "Fetched 22.4 MB in 4s (5640 kB/s)\r\n",
      "\r\n",
      "W: https://packages.cloud.google.com/apt/dists/gcsfuse-focal/InRelease: Key is stored in legacy trusted.gpg keyring (/etc/apt/trusted.gpg), see the DEPRECATION section in apt-key(8) for details.\r\n",
      "W: https://packages.cloud.google.com/apt/dists/google-fast-socket/InRelease: Key is stored in legacy trusted.gpg keyring (/etc/apt/trusted.gpg), see the DEPRECATION section in apt-key(8) for details.\r\n",
      "\r\n",
      "\r\n",
      "\r\n",
      "libvulkan-dev is already the newest version (1.3.204.1-2).\r\n",
      "The following NEW packages will be installed:\r\n",
      "  mesa-vulkan-drivers vulkan-tools\r\n",
      "0 upgraded, 2 newly installed, 0 to remove and 90 not upgraded.\r\n",
      "Need to get 11.0 MB of archives.\r\n",
      "After this operation, 51.9 MB of additional disk space will be used.\r\n",
      "Get:1 http://archive.ubuntu.com/ubuntu jammy-updates/main amd64 mesa-vulkan-drivers amd64 23.2.1-1ubuntu3.1~22.04.3 [10.7 MB]\r\n",
      "Get:2 http://archive.ubuntu.com/ubuntu jammy/universe amd64 vulkan-tools amd64 1.3.204.0+dfsg1-1 [241 kB]\r\n",
      "Fetched 11.0 MB in 1s (11.5 MB/s)\r\n",
      "Selecting previously unselected package mesa-vulkan-drivers:amd64.\r\n",
      "(Reading database ... 123061 files and directories currently installed.)\r\n",
      "Preparing to unpack .../mesa-vulkan-drivers_23.2.1-1ubuntu3.1~22.04.3_amd64.deb ...\r\n",
      "Unpacking mesa-vulkan-drivers:amd64 (23.2.1-1ubuntu3.1~22.04.3) ...\r\n",
      "Selecting previously unselected package vulkan-tools.\r\n",
      "Preparing to unpack .../vulkan-tools_1.3.204.0+dfsg1-1_amd64.deb ...\r\n",
      "Unpacking vulkan-tools (1.3.204.0+dfsg1-1) ...\r\n",
      "Setting up mesa-vulkan-drivers:amd64 (23.2.1-1ubuntu3.1~22.04.3) ...\r\n",
      "Setting up vulkan-tools (1.3.204.0+dfsg1-1) ...\r\n",
      "Processing triggers for libc-bin (2.35-0ubuntu3.8) ...\r\n",
      "Processing triggers for man-db (2.10.2-1) ...\r\n"
     ]
    }
   ],
   "source": [
    "!apt-get update\n",
    "!apt-get install -y --no-install-recommends libvulkan-dev vulkan-tools mesa-vulkan-drivers\n",
    "# !apt-get install -y --no-install-recommends vulkan-utils libvulkan-dev"
   ]
  },
  {
   "cell_type": "code",
   "execution_count": 6,
   "id": "d1d948d0",
   "metadata": {
    "execution": {
     "iopub.execute_input": "2025-01-26T03:10:56.043264Z",
     "iopub.status.busy": "2025-01-26T03:10:56.042964Z",
     "iopub.status.idle": "2025-01-26T03:10:57.035488Z",
     "shell.execute_reply": "2025-01-26T03:10:57.034443Z"
    },
    "papermill": {
     "duration": 1.007773,
     "end_time": "2025-01-26T03:10:57.037667",
     "exception": false,
     "start_time": "2025-01-26T03:10:56.029894",
     "status": "completed"
    },
    "tags": []
   },
   "outputs": [],
   "source": [
    "!export VK_ICD_FILENAMES=/usr/share/vulkan/icd.d/"
   ]
  },
  {
   "cell_type": "code",
   "execution_count": 7,
   "id": "eec0a6be",
   "metadata": {
    "_kg_hide-output": true,
    "collapsed": true,
    "execution": {
     "iopub.execute_input": "2025-01-26T03:10:57.063285Z",
     "iopub.status.busy": "2025-01-26T03:10:57.062978Z",
     "iopub.status.idle": "2025-01-26T03:10:57.066895Z",
     "shell.execute_reply": "2025-01-26T03:10:57.066195Z"
    },
    "jupyter": {
     "outputs_hidden": true
    },
    "papermill": {
     "duration": 0.018583,
     "end_time": "2025-01-26T03:10:57.068541",
     "exception": false,
     "start_time": "2025-01-26T03:10:57.049958",
     "status": "completed"
    },
    "tags": []
   },
   "outputs": [],
   "source": [
    "# !vulkaninfo"
   ]
  },
  {
   "cell_type": "code",
   "execution_count": 8,
   "id": "f4fb1d74",
   "metadata": {
    "execution": {
     "iopub.execute_input": "2025-01-26T03:10:57.093356Z",
     "iopub.status.busy": "2025-01-26T03:10:57.093116Z",
     "iopub.status.idle": "2025-01-26T14:19:09.783260Z",
     "shell.execute_reply": "2025-01-26T14:19:09.782078Z"
    },
    "papermill": {
     "duration": 40092.704987,
     "end_time": "2025-01-26T14:19:09.785465",
     "exception": false,
     "start_time": "2025-01-26T03:10:57.080478",
     "status": "completed"
    },
    "tags": []
   },
   "outputs": [
    {
     "name": "stdout",
     "output_type": "stream",
     "text": [
      "Downloading PhysX GPU library to /root/.sapien/physx/105.1-physx-5.3.1.patch0 from Github. This can take several minutes. If it fails to download, please manually download fhttps://github.com/sapien-sim/physx-precompiled/releases/download/105.1-physx-5.3.1.patch0/linux-so.zip and unzip at /root/.sapien/physx/105.1-physx-5.3.1.patch0.\r\n",
      "Download complete.\r\n",
      "depth start\r\n",
      "Saving eval trajectories/videos to runs/PickCube-v1__sac_rgbd_original__1__1737861075/videos\r\n",
      "Running training\r\n",
      "/kaggle/working/Image-based-RL-Manipulation/sac_rgbd_original.py:649: FutureWarning: You are using `torch.load` with `weights_only=False` (the current default value), which uses the default pickle module implicitly. It is possible to construct malicious pickle data which will execute arbitrary code during unpickling (See https://github.com/pytorch/pytorch/blob/main/SECURITY.md#untrusted-models for more details). In a future release, the default value for `weights_only` will be flipped to `True`. This limits the functions that could be executed during unpickling. Arbitrary objects will no longer be allowed to be loaded via this mode unless they are explicitly allowlisted by the user via `torch.serialization.add_safe_globals`. We recommend you start setting `weights_only=True` for any use case where you don't have full control of the loaded file. Please open an issue on GitHub for any issues related to this experimental feature.\r\n",
      "  ckpt = torch.load(args.checkpoint)\r\n",
      "  0%|                                                | 0/750000 [00:00<?, ?it/s]/opt/conda/lib/python3.10/subprocess.py:1796: RuntimeWarning: os.fork() was called. os.fork() is incompatible with multithreaded code, and JAX is multithreaded, so this will likely lead to a deadlock.\r\n",
      "  self.pid = _posixsubprocess.fork_exec(\r\n",
      "success_once: 0.00, return: 11.48:   0%|             | 0/750000 [00:08<?, ?it/s]model saved to runs/PickCube-v1__sac_rgbd_original__1__1737861075/ckpt_0.pt\r\n",
      "success_once: 0.00, return: 4.11:   1%| | 10048/750000 [05:41<10:46:03, 19.09it/model saved to runs/PickCube-v1__sac_rgbd_original__1__1737861075/ckpt_10048.pt\r\n",
      "success_once: 0.00, return: 5.26:   3%| | 20032/750000 [14:32<10:38:30, 19.05it/model saved to runs/PickCube-v1__sac_rgbd_original__1__1737861075/ckpt_20032.pt\r\n",
      "success_once: 0.00, return: 5.92:   4%| | 30016/750000 [23:24<10:31:36, 19.00it/model saved to runs/PickCube-v1__sac_rgbd_original__1__1737861075/ckpt_30016.pt\r\n",
      "success_once: 0.00, return: 6.14:   5%| | 40000/750000 [32:18<10:23:52, 18.97it/model saved to runs/PickCube-v1__sac_rgbd_original__1__1737861075/ckpt_40000.pt\r\n",
      "success_once: 0.00, return: 6.58:   7%| | 50048/750000 [41:15<10:14:57, 18.97it/model saved to runs/PickCube-v1__sac_rgbd_original__1__1737861075/ckpt_50048.pt\r\n",
      "success_once: 0.00, return: 5.32:   8%| | 60032/750000 [50:09<10:05:45, 18.98it/model saved to runs/PickCube-v1__sac_rgbd_original__1__1737861075/ckpt_60032.pt\r\n",
      "success_once: 0.00, return: 5.79:   9%| | 70016/750000 [59:04<10:01:10, 18.85it/model saved to runs/PickCube-v1__sac_rgbd_original__1__1737861075/ckpt_70016.pt\r\n",
      "success_once: 0.00, return: 5.61:  11%| | 80000/750000 [1:08:02<9:54:32, 18.78itmodel saved to runs/PickCube-v1__sac_rgbd_original__1__1737861075/ckpt_80000.pt\r\n",
      "success_once: 0.00, return: 3.83:  12%| | 90048/750000 [1:17:04<9:44:57, 18.80itmodel saved to runs/PickCube-v1__sac_rgbd_original__1__1737861075/ckpt_90048.pt\r\n",
      "success_once: 0.00, return: 3.90:  13%|▏| 100032/750000 [1:26:02<9:37:19, 18.76imodel saved to runs/PickCube-v1__sac_rgbd_original__1__1737861075/ckpt_100032.pt\r\n",
      "success_once: 0.00, return: 3.87:  15%|▏| 110016/750000 [1:35:00<9:26:34, 18.83imodel saved to runs/PickCube-v1__sac_rgbd_original__1__1737861075/ckpt_110016.pt\r\n",
      "success_once: 0.00, return: 3.36:  16%|▏| 120000/750000 [1:43:58<9:16:54, 18.85imodel saved to runs/PickCube-v1__sac_rgbd_original__1__1737861075/ckpt_120000.pt\r\n",
      "success_once: 0.00, return: 5.00:  17%|▏| 130048/750000 [1:52:58<9:05:50, 18.93imodel saved to runs/PickCube-v1__sac_rgbd_original__1__1737861075/ckpt_130048.pt\r\n",
      "success_once: 0.00, return: 4.13:  19%|▏| 140032/750000 [2:01:56<9:00:46, 18.80imodel saved to runs/PickCube-v1__sac_rgbd_original__1__1737861075/ckpt_140032.pt\r\n",
      "success_once: 0.00, return: 5.12:  20%|▏| 150016/750000 [2:10:54<8:51:16, 18.82imodel saved to runs/PickCube-v1__sac_rgbd_original__1__1737861075/ckpt_150016.pt\r\n",
      "success_once: 0.00, return: 4.69:  21%|▏| 160000/750000 [2:19:53<8:43:23, 18.79imodel saved to runs/PickCube-v1__sac_rgbd_original__1__1737861075/ckpt_160000.pt\r\n",
      "success_once: 0.00, return: 4.61:  23%|▏| 170048/750000 [2:28:56<8:34:35, 18.78imodel saved to runs/PickCube-v1__sac_rgbd_original__1__1737861075/ckpt_170048.pt\r\n",
      "success_once: 0.00, return: 4.60:  24%|▏| 180032/750000 [2:37:55<8:25:05, 18.81imodel saved to runs/PickCube-v1__sac_rgbd_original__1__1737861075/ckpt_180032.pt\r\n",
      "success_once: 0.00, return: 4.44:  25%|▎| 190016/750000 [2:46:53<8:12:23, 18.95imodel saved to runs/PickCube-v1__sac_rgbd_original__1__1737861075/ckpt_190016.pt\r\n",
      "success_once: 0.00, return: 3.79:  27%|▎| 200000/750000 [2:55:51<8:05:05, 18.90imodel saved to runs/PickCube-v1__sac_rgbd_original__1__1737861075/ckpt_200000.pt\r\n",
      "success_once: 0.00, return: 4.72:  28%|▎| 210048/750000 [3:04:51<7:55:45, 18.92imodel saved to runs/PickCube-v1__sac_rgbd_original__1__1737861075/ckpt_210048.pt\r\n",
      "success_once: 0.00, return: 5.02:  29%|▎| 220032/750000 [3:13:47<7:46:54, 18.92imodel saved to runs/PickCube-v1__sac_rgbd_original__1__1737861075/ckpt_220032.pt\r\n",
      "success_once: 0.00, return: 3.34:  31%|▎| 230016/750000 [3:22:42<7:38:27, 18.90imodel saved to runs/PickCube-v1__sac_rgbd_original__1__1737861075/ckpt_230016.pt\r\n",
      "success_once: 0.00, return: 4.57:  32%|▎| 240000/750000 [3:31:38<7:29:09, 18.92imodel saved to runs/PickCube-v1__sac_rgbd_original__1__1737861075/ckpt_240000.pt\r\n",
      "success_once: 0.00, return: 4.18:  33%|▎| 250048/750000 [3:40:37<7:20:06, 18.93imodel saved to runs/PickCube-v1__sac_rgbd_original__1__1737861075/ckpt_250048.pt\r\n",
      "success_once: 0.00, return: 5.51:  35%|▎| 260032/750000 [3:49:32<7:11:23, 18.93imodel saved to runs/PickCube-v1__sac_rgbd_original__1__1737861075/ckpt_260032.pt\r\n",
      "success_once: 0.00, return: 4.49:  36%|▎| 270016/750000 [3:58:27<7:01:46, 18.97imodel saved to runs/PickCube-v1__sac_rgbd_original__1__1737861075/ckpt_270016.pt\r\n",
      "success_once: 0.00, return: 4.48:  37%|▎| 280000/750000 [4:07:26<6:55:25, 18.86imodel saved to runs/PickCube-v1__sac_rgbd_original__1__1737861075/ckpt_280000.pt\r\n",
      "success_once: 0.00, return: 4.99:  39%|▍| 290048/750000 [4:16:29<6:48:26, 18.77imodel saved to runs/PickCube-v1__sac_rgbd_original__1__1737861075/ckpt_290048.pt\r\n",
      "success_once: 0.00, return: 3.89:  40%|▍| 300032/750000 [4:25:29<6:41:56, 18.66imodel saved to runs/PickCube-v1__sac_rgbd_original__1__1737861075/ckpt_300032.pt\r\n",
      "success_once: 0.00, return: 5.30:  41%|▍| 310016/750000 [4:34:31<6:31:42, 18.72imodel saved to runs/PickCube-v1__sac_rgbd_original__1__1737861075/ckpt_310016.pt\r\n",
      "success_once: 0.00, return: 5.73:  43%|▍| 320000/750000 [4:43:29<6:17:12, 19.00imodel saved to runs/PickCube-v1__sac_rgbd_original__1__1737861075/ckpt_320000.pt\r\n",
      "success_once: 0.00, return: 4.92:  44%|▍| 330048/750000 [4:52:26<6:09:08, 18.96imodel saved to runs/PickCube-v1__sac_rgbd_original__1__1737861075/ckpt_330048.pt\r\n",
      "success_once: 0.00, return: 4.39:  45%|▍| 340032/750000 [5:01:25<6:01:35, 18.90imodel saved to runs/PickCube-v1__sac_rgbd_original__1__1737861075/ckpt_340032.pt\r\n",
      "success_once: 0.00, return: 4.81:  47%|▍| 350016/750000 [5:10:18<5:51:13, 18.98imodel saved to runs/PickCube-v1__sac_rgbd_original__1__1737861075/ckpt_350016.pt\r\n",
      "success_once: 0.00, return: 4.58:  48%|▍| 360000/750000 [5:19:13<5:41:41, 19.02imodel saved to runs/PickCube-v1__sac_rgbd_original__1__1737861075/ckpt_360000.pt\r\n",
      "success_once: 0.00, return: 5.15:  49%|▍| 370048/750000 [5:28:10<5:33:41, 18.98imodel saved to runs/PickCube-v1__sac_rgbd_original__1__1737861075/ckpt_370048.pt\r\n",
      "success_once: 0.00, return: 4.80:  51%|▌| 380032/750000 [5:37:05<5:25:49, 18.93imodel saved to runs/PickCube-v1__sac_rgbd_original__1__1737861075/ckpt_380032.pt\r\n",
      "success_once: 0.00, return: 6.52:  52%|▌| 390016/750000 [5:45:58<5:15:20, 19.03imodel saved to runs/PickCube-v1__sac_rgbd_original__1__1737861075/ckpt_390016.pt\r\n",
      "success_once: 0.00, return: 4.68:  53%|▌| 400000/750000 [5:54:52<5:07:24, 18.98imodel saved to runs/PickCube-v1__sac_rgbd_original__1__1737861075/ckpt_400000.pt\r\n",
      "success_once: 0.00, return: 5.17:  55%|▌| 410048/750000 [6:03:49<4:58:53, 18.96imodel saved to runs/PickCube-v1__sac_rgbd_original__1__1737861075/ckpt_410048.pt\r\n",
      "success_once: 0.00, return: 3.88:  56%|▌| 420032/750000 [6:12:44<4:51:51, 18.84imodel saved to runs/PickCube-v1__sac_rgbd_original__1__1737861075/ckpt_420032.pt\r\n",
      "success_once: 0.00, return: 5.14:  57%|▌| 430016/750000 [6:21:41<4:43:56, 18.78imodel saved to runs/PickCube-v1__sac_rgbd_original__1__1737861075/ckpt_430016.pt\r\n",
      "success_once: 0.00, return: 3.97:  59%|▌| 440000/750000 [6:30:38<4:35:46, 18.74imodel saved to runs/PickCube-v1__sac_rgbd_original__1__1737861075/ckpt_440000.pt\r\n",
      "success_once: 0.00, return: 5.85:  60%|▌| 450048/750000 [6:39:39<4:24:54, 18.87imodel saved to runs/PickCube-v1__sac_rgbd_original__1__1737861075/ckpt_450048.pt\r\n",
      "success_once: 0.00, return: 6.01:  61%|▌| 460032/750000 [6:48:35<4:16:06, 18.87imodel saved to runs/PickCube-v1__sac_rgbd_original__1__1737861075/ckpt_460032.pt\r\n",
      "success_once: 0.00, return: 5.68:  63%|▋| 470016/750000 [6:57:31<4:06:07, 18.96imodel saved to runs/PickCube-v1__sac_rgbd_original__1__1737861075/ckpt_470016.pt\r\n",
      "success_once: 0.00, return: 5.05:  64%|▋| 480000/750000 [7:06:27<3:56:44, 19.01imodel saved to runs/PickCube-v1__sac_rgbd_original__1__1737861075/ckpt_480000.pt\r\n",
      "success_once: 0.00, return: 4.87:  65%|▋| 490048/750000 [7:15:25<3:48:01, 19.00imodel saved to runs/PickCube-v1__sac_rgbd_original__1__1737861075/ckpt_490048.pt\r\n",
      "success_once: 0.00, return: 4.72:  67%|▋| 500032/750000 [7:24:18<3:39:53, 18.95imodel saved to runs/PickCube-v1__sac_rgbd_original__1__1737861075/ckpt_500032.pt\r\n",
      "success_once: 0.00, return: 5.93:  68%|▋| 510016/750000 [7:33:12<3:30:33, 19.00imodel saved to runs/PickCube-v1__sac_rgbd_original__1__1737861075/ckpt_510016.pt\r\n",
      "success_once: 0.00, return: 6.00:  69%|▋| 520000/750000 [7:42:05<3:21:51, 18.99imodel saved to runs/PickCube-v1__sac_rgbd_original__1__1737861075/ckpt_520000.pt\r\n",
      "success_once: 0.00, return: 4.59:  71%|▋| 530048/750000 [7:51:01<3:12:46, 19.02imodel saved to runs/PickCube-v1__sac_rgbd_original__1__1737861075/ckpt_530048.pt\r\n",
      "success_once: 0.00, return: 5.75:  72%|▋| 540032/750000 [7:59:55<3:04:14, 18.99imodel saved to runs/PickCube-v1__sac_rgbd_original__1__1737861075/ckpt_540032.pt\r\n",
      "success_once: 0.00, return: 6.37:  73%|▋| 550016/750000 [8:08:48<2:55:25, 19.00imodel saved to runs/PickCube-v1__sac_rgbd_original__1__1737861075/ckpt_550016.pt\r\n",
      "success_once: 0.00, return: 5.54:  75%|▋| 560000/750000 [8:17:42<2:46:38, 19.00imodel saved to runs/PickCube-v1__sac_rgbd_original__1__1737861075/ckpt_560000.pt\r\n",
      "success_once: 0.00, return: 3.81:  76%|▊| 570048/750000 [8:26:39<2:37:52, 19.00imodel saved to runs/PickCube-v1__sac_rgbd_original__1__1737861075/ckpt_570048.pt\r\n",
      "success_once: 0.00, return: 5.92:  77%|▊| 580032/750000 [8:35:32<2:29:06, 19.00imodel saved to runs/PickCube-v1__sac_rgbd_original__1__1737861075/ckpt_580032.pt\r\n",
      "success_once: 0.00, return: 5.91:  79%|▊| 590016/750000 [8:44:27<2:21:08, 18.89imodel saved to runs/PickCube-v1__sac_rgbd_original__1__1737861075/ckpt_590016.pt\r\n",
      "success_once: 0.00, return: 4.87:  80%|▊| 600000/750000 [8:53:20<2:11:41, 18.98imodel saved to runs/PickCube-v1__sac_rgbd_original__1__1737861075/ckpt_600000.pt\r\n",
      "success_once: 0.00, return: 5.56:  81%|▊| 610048/750000 [9:02:18<2:02:40, 19.01imodel saved to runs/PickCube-v1__sac_rgbd_original__1__1737861075/ckpt_610048.pt\r\n",
      "success_once: 0.00, return: 3.85:  83%|▊| 620032/750000 [9:11:12<1:54:10, 18.97imodel saved to runs/PickCube-v1__sac_rgbd_original__1__1737861075/ckpt_620032.pt\r\n",
      "success_once: 0.00, return: 5.27:  84%|▊| 630016/750000 [9:20:09<1:45:14, 19.00imodel saved to runs/PickCube-v1__sac_rgbd_original__1__1737861075/ckpt_630016.pt\r\n",
      "success_once: 0.00, return: 5.04:  85%|▊| 640000/750000 [9:29:06<1:38:10, 18.68imodel saved to runs/PickCube-v1__sac_rgbd_original__1__1737861075/ckpt_640000.pt\r\n",
      "success_once: 0.00, return: 4.72:  87%|▊| 650048/750000 [9:38:04<1:27:45, 18.98imodel saved to runs/PickCube-v1__sac_rgbd_original__1__1737861075/ckpt_650048.pt\r\n",
      "success_once: 0.00, return: 3.67:  88%|▉| 660032/750000 [9:47:01<1:19:18, 18.91imodel saved to runs/PickCube-v1__sac_rgbd_original__1__1737861075/ckpt_660032.pt\r\n",
      "success_once: 0.00, return: 4.77:  89%|▉| 670016/750000 [9:55:57<1:10:04, 19.02imodel saved to runs/PickCube-v1__sac_rgbd_original__1__1737861075/ckpt_670016.pt\r\n",
      "success_once: 0.00, return: 4.78:  91%|▉| 680000/750000 [10:04:54<1:02:17, 18.73model saved to runs/PickCube-v1__sac_rgbd_original__1__1737861075/ckpt_680000.pt\r\n",
      "success_once: 0.00, return: 4.63:  92%|▉| 690048/750000 [10:13:59<53:15, 18.76itmodel saved to runs/PickCube-v1__sac_rgbd_original__1__1737861075/ckpt_690048.pt\r\n",
      "success_once: 0.00, return: 6.36:  93%|▉| 700032/750000 [10:23:00<44:26, 18.74itmodel saved to runs/PickCube-v1__sac_rgbd_original__1__1737861075/ckpt_700032.pt\r\n",
      "success_once: 0.00, return: 5.67:  95%|▉| 710016/750000 [10:32:00<35:44, 18.65itmodel saved to runs/PickCube-v1__sac_rgbd_original__1__1737861075/ckpt_710016.pt\r\n",
      "success_once: 0.00, return: 4.91:  96%|▉| 720000/750000 [10:41:01<26:19, 18.99itmodel saved to runs/PickCube-v1__sac_rgbd_original__1__1737861075/ckpt_720000.pt\r\n",
      "success_once: 0.00, return: 5.45:  97%|▉| 730048/750000 [10:49:57<17:33, 18.93itmodel saved to runs/PickCube-v1__sac_rgbd_original__1__1737861075/ckpt_730048.pt\r\n",
      "success_once: 0.00, return: 5.62:  99%|▉| 740032/750000 [10:58:51<08:44, 19.00itmodel saved to runs/PickCube-v1__sac_rgbd_original__1__1737861075/ckpt_740032.pt\r\n",
      "success_once: 0.00, return: 5.62: : 750016it [11:07:36, 18.99it/s]              Yo\r\n",
      "model saved to runs/PickCube-v1__sac_rgbd_original__1__1737861075/final_ckpt.pt\r\n",
      "\u001b[0mException ignored in: <function VectorEnv.__del__ at 0x7edf2a9c0820>\r\n",
      "Traceback (most recent call last):\r\n",
      "  File \"/opt/conda/lib/python3.10/site-packages/gymnasium/vector/vector_env.py\", line 330, in __del__\r\n",
      "  File \"/opt/conda/lib/python3.10/site-packages/mani_skill/vector/wrappers/gymnasium.py\", line 159, in close\r\n",
      "  File \"/opt/conda/lib/python3.10/site-packages/gymnasium/core.py\", line 475, in close\r\n",
      "  File \"/opt/conda/lib/python3.10/site-packages/gymnasium/core.py\", line 475, in close\r\n",
      "  File \"/opt/conda/lib/python3.10/site-packages/gymnasium/core.py\", line 475, in close\r\n",
      "  File \"/opt/conda/lib/python3.10/site-packages/mani_skill/envs/sapien_env.py\", line 1133, in close\r\n",
      "  File \"/opt/conda/lib/python3.10/site-packages/mani_skill/envs/sapien_env.py\", line 1130, in _clear\r\n",
      "TypeError: 'NoneType' object is not callable\r\n",
      "Exception ignored in: <function VectorEnv.__del__ at 0x7edf2a9c0820>\r\n",
      "Traceback (most recent call last):\r\n",
      "  File \"/opt/conda/lib/python3.10/site-packages/gymnasium/vector/vector_env.py\", line 330, in __del__\r\n",
      "  File \"/opt/conda/lib/python3.10/site-packages/mani_skill/vector/wrappers/gymnasium.py\", line 159, in close\r\n",
      "  File \"/opt/conda/lib/python3.10/site-packages/mani_skill/utils/wrappers/record.py\", line 825, in close\r\n",
      "  File \"/opt/conda/lib/python3.10/site-packages/gymnasium/core.py\", line 475, in close\r\n",
      "  File \"/opt/conda/lib/python3.10/site-packages/gymnasium/core.py\", line 475, in close\r\n",
      "  File \"/opt/conda/lib/python3.10/site-packages/gymnasium/core.py\", line 475, in close\r\n",
      "  [Previous line repeated 1 more time]\r\n",
      "  File \"/opt/conda/lib/python3.10/site-packages/mani_skill/envs/sapien_env.py\", line 1133, in close\r\n",
      "  File \"/opt/conda/lib/python3.10/site-packages/mani_skill/envs/sapien_env.py\", line 1130, in _clear\r\n",
      "TypeError: 'NoneType' object is not callable\r\n",
      "success_once: 0.00, return: 5.62: : 750016it [11:07:40, 18.72it/s]\r\n"
     ]
    }
   ],
   "source": [
    "!python3 /kaggle/working/Image-based-RL-Manipulation/sac_rgbd_original.py --env_id=\"PickCube-v1\" --obs_mode depth \\\n",
    "  --num_envs=32 --utd=0.5 --buffer_size=300_000 \\\n",
    "  --control-mode=\"pd_ee_delta_pos\" --camera_width=64 --camera_height=64 \\\n",
    "  --total_timesteps=750_000 --eval_freq=10_000"
   ]
  },
  {
   "cell_type": "code",
   "execution_count": 9,
   "id": "e52998c5",
   "metadata": {
    "execution": {
     "iopub.execute_input": "2025-01-26T14:19:10.886469Z",
     "iopub.status.busy": "2025-01-26T14:19:10.886130Z",
     "iopub.status.idle": "2025-01-26T14:19:10.893782Z",
     "shell.execute_reply": "2025-01-26T14:19:10.892917Z"
    },
    "papermill": {
     "duration": 0.528395,
     "end_time": "2025-01-26T14:19:10.895349",
     "exception": false,
     "start_time": "2025-01-26T14:19:10.366954",
     "status": "completed"
    },
    "tags": []
   },
   "outputs": [
    {
     "data": {
      "text/plain": [
       "'/kaggle/working'"
      ]
     },
     "execution_count": 9,
     "metadata": {},
     "output_type": "execute_result"
    }
   ],
   "source": [
    "pwd"
   ]
  },
  {
   "cell_type": "code",
   "execution_count": 10,
   "id": "1a2147bf",
   "metadata": {
    "execution": {
     "iopub.execute_input": "2025-01-26T14:19:12.007042Z",
     "iopub.status.busy": "2025-01-26T14:19:12.006716Z",
     "iopub.status.idle": "2025-01-26T14:19:13.969610Z",
     "shell.execute_reply": "2025-01-26T14:19:13.968768Z"
    },
    "papermill": {
     "duration": 2.489463,
     "end_time": "2025-01-26T14:19:13.971269",
     "exception": false,
     "start_time": "2025-01-26T14:19:11.481806",
     "status": "completed"
    },
    "tags": []
   },
   "outputs": [
    {
     "name": "stderr",
     "output_type": "stream",
     "text": [
      "/opt/conda/lib/python3.10/site-packages/torch/storage.py:414: FutureWarning: You are using `torch.load` with `weights_only=False` (the current default value), which uses the default pickle module implicitly. It is possible to construct malicious pickle data which will execute arbitrary code during unpickling (See https://github.com/pytorch/pytorch/blob/main/SECURITY.md#untrusted-models for more details). In a future release, the default value for `weights_only` will be flipped to `True`. This limits the functions that could be executed during unpickling. Arbitrary objects will no longer be allowed to be loaded via this mode unless they are explicitly allowlisted by the user via `torch.serialization.add_safe_globals`. We recommend you start setting `weights_only=True` for any use case where you don't have full control of the loaded file. Please open an issue on GitHub for any issues related to this experimental feature.\n",
      "  return torch.load(io.BytesIO(b))\n"
     ]
    },
    {
     "data": {
      "image/png": "[encoded data removed]",
      "text/plain": [
       "<Figure size 640x480 with 1 Axes>"
      ]
     },
     "metadata": {},
     "output_type": "display_data"
    }
   ],
   "source": [
    "import pickle\n",
    "import matplotlib.pyplot as plt\n",
    "import torch\n",
    "with open('plot_return.pickle', 'rb') as file:\n",
    "    plot_return = pickle.load(file)\n",
    "\n",
    "# print(plot_success_once)\n",
    "plt.plot(torch.tensor(plot_return).cpu().numpy())\n",
    "plt.xlabel('(x10000) timesteps ')\n",
    "plt.ylabel('return')\n",
    "plt.title('Plot of returns(only D) with proprioception')\n",
    "plt.show()"
   ]
  },
  {
   "cell_type": "code",
   "execution_count": null,
   "id": "e25f085f",
   "metadata": {
    "papermill": {
     "duration": 0.519843,
     "end_time": "2025-01-26T14:19:15.065841",
     "exception": false,
     "start_time": "2025-01-26T14:19:14.545998",
     "status": "completed"
    },
    "tags": []
   },
   "outputs": [],
   "source": []
  }
 ],
 "metadata": {
  "kaggle": {
   "accelerator": "gpu",
   "dataSources": [],
   "dockerImageVersionId": 30805,
   "isGpuEnabled": true,
   "isInternetEnabled": true,
   "language": "python",
   "sourceType": "notebook"
  },
  "kernelspec": {
   "display_name": "Python 3",
   "language": "python",
   "name": "python3"
  },
  "language_info": {
   "codemirror_mode": {
    "name": "ipython",
    "version": 3
   },
   "file_extension": ".py",
   "mimetype": "text/x-python",
   "name": "python",
   "nbconvert_exporter": "python",
   "pygments_lexer": "ipython3",
   "version": "3.10.14"
  },
  "papermill": {
   "default_parameters": {},
   "duration": 40181.427745,
   "end_time": "2025-01-26T14:19:16.255305",
   "environment_variables": {},
   "exception": null,
   "input_path": "__notebook__.ipynb",
   "output_path": "__notebook__.ipynb",
   "parameters": {},
   "start_time": "2025-01-26T03:09:34.827560",
   "version": "2.6.0"
  }
 },
 "nbformat": 4,
 "nbformat_minor": 5
}
